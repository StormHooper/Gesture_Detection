{
 "cells": [
  {
   "cell_type": "markdown",
   "id": "8e8d1b9f",
   "metadata": {
    "id": "BV1vYiUawdXU",
    "papermill": {
     "duration": 0.009899,
     "end_time": "2025-05-09T21:12:07.525520",
     "exception": false,
     "start_time": "2025-05-09T21:12:07.515621",
     "status": "completed"
    },
    "tags": []
   },
   "source": [
    "# import libraries"
   ]
  },
  {
   "cell_type": "code",
   "execution_count": 1,
   "id": "00772b18",
   "metadata": {
    "execution": {
     "iopub.execute_input": "2025-05-09T21:12:07.545428Z",
     "iopub.status.busy": "2025-05-09T21:12:07.544495Z",
     "iopub.status.idle": "2025-05-09T21:12:25.372276Z",
     "shell.execute_reply": "2025-05-09T21:12:25.371695Z"
    },
    "executionInfo": {
     "elapsed": 36,
     "status": "ok",
     "timestamp": 1746750857311,
     "user": {
      "displayName": "Mohamed Gaber",
      "userId": "13237345057819425353"
     },
     "user_tz": -180
    },
    "id": "eAMAU6cctCWf",
    "papermill": {
     "duration": 17.838657,
     "end_time": "2025-05-09T21:12:25.373604",
     "exception": false,
     "start_time": "2025-05-09T21:12:07.534947",
     "status": "completed"
    },
    "tags": []
   },
   "outputs": [],
   "source": [
    "import numpy as np\n",
    "import pandas as pd\n",
    "import matplotlib.pyplot as plt\n",
    "import seaborn as sns\n",
    "from sklearn.model_selection import train_test_split\n",
    "from sklearn.utils import shuffle\n",
    "import keras , os , tqdm , cv2\n",
    "from keras.models import Sequential\n",
    "from keras.layers import Dense , Conv2D , MaxPooling2D , BatchNormalization , Dropout , Flatten\n",
    "from keras.utils import to_categorical\n",
    "from tensorflow.keras.preprocessing.image import ImageDataGenerator\n",
    "from tensorflow.keras.preprocessing import image\n",
    "from tensorflow.keras.models import load_model"
   ]
  },
  {
   "cell_type": "markdown",
   "id": "695470be",
   "metadata": {
    "id": "dzNgvnyYwyT-",
    "papermill": {
     "duration": 0.004716,
     "end_time": "2025-05-09T21:12:25.383603",
     "exception": false,
     "start_time": "2025-05-09T21:12:25.378887",
     "status": "completed"
    },
    "tags": []
   },
   "source": [
    "# Load Data"
   ]
  },
  {
   "cell_type": "code",
   "execution_count": 2,
   "id": "2247756f",
   "metadata": {
    "execution": {
     "iopub.execute_input": "2025-05-09T21:12:25.394095Z",
     "iopub.status.busy": "2025-05-09T21:12:25.393671Z",
     "iopub.status.idle": "2025-05-09T21:12:25.397168Z",
     "shell.execute_reply": "2025-05-09T21:12:25.396641Z"
    },
    "executionInfo": {
     "elapsed": 2,
     "status": "ok",
     "timestamp": 1746750857317,
     "user": {
      "displayName": "Mohamed Gaber",
      "userId": "13237345057819425353"
     },
     "user_tz": -180
    },
    "id": "H_aSULRWw1Iz",
    "papermill": {
     "duration": 0.009937,
     "end_time": "2025-05-09T21:12:25.398210",
     "exception": false,
     "start_time": "2025-05-09T21:12:25.388273",
     "status": "completed"
    },
    "tags": []
   },
   "outputs": [],
   "source": [
    "trainDir = '/kaggle/input/asl-alphabet/asl_alphabet_train/asl_alphabet_train'\n",
    "testDir = '/kaggle/input/asl-alphabet/asl_alphabet_test/asl_alphabet_test'"
   ]
  },
  {
   "cell_type": "code",
   "execution_count": 3,
   "id": "9fb7b358",
   "metadata": {
    "execution": {
     "iopub.execute_input": "2025-05-09T21:12:25.409012Z",
     "iopub.status.busy": "2025-05-09T21:12:25.408569Z",
     "iopub.status.idle": "2025-05-09T21:12:25.413375Z",
     "shell.execute_reply": "2025-05-09T21:12:25.412678Z"
    },
    "executionInfo": {
     "elapsed": 1,
     "status": "ok",
     "timestamp": 1746750857319,
     "user": {
      "displayName": "Mohamed Gaber",
      "userId": "13237345057819425353"
     },
     "user_tz": -180
    },
    "id": "NnG5dUIxxEmR",
    "papermill": {
     "duration": 0.011519,
     "end_time": "2025-05-09T21:12:25.414504",
     "exception": false,
     "start_time": "2025-05-09T21:12:25.402985",
     "status": "completed"
    },
    "tags": []
   },
   "outputs": [],
   "source": [
    "def loadTrsinData (trainDir , imageWidth , imageHight) :\n",
    "  classes = os.listdir(trainDir)\n",
    "  imagesList = []\n",
    "  labels = []\n",
    "  for clas in tqdm.tqdm(classes) :\n",
    "    classesPath = os.path.join(trainDir,clas)\n",
    "    for image in os.listdir(classesPath) :\n",
    "      imgPath = os.path.join(trainDir,clas,image)\n",
    "      img = cv2.imread(imgPath)\n",
    "      img = cv2.cvtColor(img , cv2.COLOR_BGR2GRAY)\n",
    "      img = cv2.resize(img , (imageWidth , imageHight))\n",
    "      imagesList.append(img)\n",
    "      labels.append(clas)\n",
    "\n",
    "  return imagesList , labels\n"
   ]
  },
  {
   "cell_type": "markdown",
   "id": "92ac6044",
   "metadata": {
    "id": "pNJ6UPfWwivh",
    "papermill": {
     "duration": 0.004622,
     "end_time": "2025-05-09T21:12:25.423956",
     "exception": false,
     "start_time": "2025-05-09T21:12:25.419334",
     "status": "completed"
    },
    "tags": []
   },
   "source": [
    "# Explore Data"
   ]
  },
  {
   "cell_type": "code",
   "execution_count": 4,
   "id": "912572bd",
   "metadata": {
    "execution": {
     "iopub.execute_input": "2025-05-09T21:12:25.433838Z",
     "iopub.status.busy": "2025-05-09T21:12:25.433623Z",
     "iopub.status.idle": "2025-05-09T21:12:25.438330Z",
     "shell.execute_reply": "2025-05-09T21:12:25.437664Z"
    },
    "executionInfo": {
     "elapsed": 69,
     "status": "ok",
     "timestamp": 1746750857389,
     "user": {
      "displayName": "Mohamed Gaber",
      "userId": "13237345057819425353"
     },
     "user_tz": -180
    },
    "id": "-IVyc-cmwAZA",
    "papermill": {
     "duration": 0.010834,
     "end_time": "2025-05-09T21:12:25.439338",
     "exception": false,
     "start_time": "2025-05-09T21:12:25.428504",
     "status": "completed"
    },
    "tags": []
   },
   "outputs": [],
   "source": [
    "def displaySampleOfData (trainDir , imageWidth , imageHight) :\n",
    "  plt.figure(figsize=(10,15))\n",
    "  classes = os.listdir(trainDir)\n",
    "  for i,clas in tqdm.tqdm(enumerate(classes)):\n",
    "    plt.subplot(6,5,i+1)\n",
    "    classesPath = os.path.join(trainDir,clas)\n",
    "    image = os.listdir(classesPath)[0]\n",
    "    image = os.path.join(trainDir,clas,image)\n",
    "    img = cv2.imread(image)\n",
    "    img = cv2.cvtColor(img , cv2.COLOR_BGR2GRAY)\n",
    "    img = cv2.resize(img , (imageWidth , imageHight))\n",
    "    plt.title(clas)\n",
    "    plt.imshow(img , cmap='gray')\n",
    "  plt.show()\n"
   ]
  },
  {
   "cell_type": "code",
   "execution_count": 5,
   "id": "b189ab23",
   "metadata": {
    "execution": {
     "iopub.execute_input": "2025-05-09T21:12:25.449573Z",
     "iopub.status.busy": "2025-05-09T21:12:25.449363Z",
     "iopub.status.idle": "2025-05-09T21:12:29.478720Z",
     "shell.execute_reply": "2025-05-09T21:12:29.478049Z"
    },
    "executionInfo": {
     "elapsed": 2394,
     "status": "ok",
     "timestamp": 1746750859773,
     "user": {
      "displayName": "Mohamed Gaber",
      "userId": "13237345057819425353"
     },
     "user_tz": -180
    },
    "id": "6hSKY6Ar4PZx",
    "outputId": "71cd538e-8c74-4a96-ac0d-d9e2599bcfc7",
    "papermill": {
     "duration": 4.042492,
     "end_time": "2025-05-09T21:12:29.486501",
     "exception": false,
     "start_time": "2025-05-09T21:12:25.444009",
     "status": "completed"
    },
    "tags": []
   },
   "outputs": [
    {
     "ename": "FileNotFoundError",
     "evalue": "[WinError 3] The system cannot find the path specified: '/kaggle/input/asl-alphabet/asl_alphabet_train/asl_alphabet_train'",
     "output_type": "error",
     "traceback": [
      "\u001b[1;31m---------------------------------------------------------------------------\u001b[0m",
      "\u001b[1;31mFileNotFoundError\u001b[0m                         Traceback (most recent call last)",
      "Cell \u001b[1;32mIn[5], line 1\u001b[0m\n\u001b[1;32m----> 1\u001b[0m \u001b[43mdisplaySampleOfData\u001b[49m\u001b[43m(\u001b[49m\u001b[43mtrainDir\u001b[49m\u001b[43m \u001b[49m\u001b[43m,\u001b[49m\u001b[38;5;241;43m60\u001b[39;49m\u001b[43m \u001b[49m\u001b[43m,\u001b[49m\u001b[38;5;241;43m60\u001b[39;49m\u001b[43m \u001b[49m\u001b[43m)\u001b[49m\n",
      "Cell \u001b[1;32mIn[4], line 3\u001b[0m, in \u001b[0;36mdisplaySampleOfData\u001b[1;34m(trainDir, imageWidth, imageHight)\u001b[0m\n\u001b[0;32m      1\u001b[0m \u001b[38;5;28;01mdef\u001b[39;00m\u001b[38;5;250m \u001b[39m\u001b[38;5;21mdisplaySampleOfData\u001b[39m (trainDir , imageWidth , imageHight) :\n\u001b[0;32m      2\u001b[0m   plt\u001b[38;5;241m.\u001b[39mfigure(figsize\u001b[38;5;241m=\u001b[39m(\u001b[38;5;241m10\u001b[39m,\u001b[38;5;241m15\u001b[39m))\n\u001b[1;32m----> 3\u001b[0m   classes \u001b[38;5;241m=\u001b[39m \u001b[43mos\u001b[49m\u001b[38;5;241;43m.\u001b[39;49m\u001b[43mlistdir\u001b[49m\u001b[43m(\u001b[49m\u001b[43mtrainDir\u001b[49m\u001b[43m)\u001b[49m\n\u001b[0;32m      4\u001b[0m   \u001b[38;5;28;01mfor\u001b[39;00m i,clas \u001b[38;5;129;01min\u001b[39;00m tqdm\u001b[38;5;241m.\u001b[39mtqdm(\u001b[38;5;28menumerate\u001b[39m(classes)):\n\u001b[0;32m      5\u001b[0m     plt\u001b[38;5;241m.\u001b[39msubplot(\u001b[38;5;241m6\u001b[39m,\u001b[38;5;241m5\u001b[39m,i\u001b[38;5;241m+\u001b[39m\u001b[38;5;241m1\u001b[39m)\n",
      "\u001b[1;31mFileNotFoundError\u001b[0m: [WinError 3] The system cannot find the path specified: '/kaggle/input/asl-alphabet/asl_alphabet_train/asl_alphabet_train'"
     ]
    },
    {
     "data": {
      "text/plain": [
       "<Figure size 1000x1500 with 0 Axes>"
      ]
     },
     "metadata": {},
     "output_type": "display_data"
    }
   ],
   "source": [
    "displaySampleOfData(trainDir ,60 ,60 )"
   ]
  },
  {
   "cell_type": "code",
   "execution_count": null,
   "id": "17fc10ec",
   "metadata": {
    "execution": {
     "iopub.execute_input": "2025-05-09T21:12:29.509856Z",
     "iopub.status.busy": "2025-05-09T21:12:29.509068Z",
     "iopub.status.idle": "2025-05-09T21:23:11.622675Z",
     "shell.execute_reply": "2025-05-09T21:23:11.621903Z"
    },
    "executionInfo": {
     "elapsed": 49183,
     "status": "ok",
     "timestamp": 1746750908938,
     "user": {
      "displayName": "Mohamed Gaber",
      "userId": "13237345057819425353"
     },
     "user_tz": -180
    },
    "id": "DhvVVArG4ZS0",
    "outputId": "6b165adf-90af-4da3-f682-c446f64ee14f",
    "papermill": {
     "duration": 642.126535,
     "end_time": "2025-05-09T21:23:11.623860",
     "exception": false,
     "start_time": "2025-05-09T21:12:29.497325",
     "status": "completed"
    },
    "tags": []
   },
   "outputs": [
    {
     "name": "stderr",
     "output_type": "stream",
     "text": [
      "100%|██████████| 29/29 [10:42<00:00, 22.14s/it]\n"
     ]
    }
   ],
   "source": [
    "# load data after explore the images and study it's case\n",
    "X , y = loadTrsinData(trainDir , 60 , 60)"
   ]
  },
  {
   "cell_type": "code",
   "execution_count": null,
   "id": "637b8c14",
   "metadata": {
    "execution": {
     "iopub.execute_input": "2025-05-09T21:23:11.650737Z",
     "iopub.status.busy": "2025-05-09T21:23:11.650532Z",
     "iopub.status.idle": "2025-05-09T21:23:11.800177Z",
     "shell.execute_reply": "2025-05-09T21:23:11.799466Z"
    },
    "executionInfo": {
     "elapsed": 15,
     "status": "ok",
     "timestamp": 1746750908951,
     "user": {
      "displayName": "Mohamed Gaber",
      "userId": "13237345057819425353"
     },
     "user_tz": -180
    },
    "id": "FXumsa8eOWJW",
    "outputId": "59c9e958-1b2b-431b-855b-8739fabed6cf",
    "papermill": {
     "duration": 0.1639,
     "end_time": "2025-05-09T21:23:11.801174",
     "exception": false,
     "start_time": "2025-05-09T21:23:11.637274",
     "status": "completed"
    },
    "tags": []
   },
   "outputs": [
    {
     "name": "stderr",
     "output_type": "stream",
     "text": [
      "100%|██████████| 28/28 [00:00<00:00, 204.55it/s]\n"
     ]
    }
   ],
   "source": [
    "testImages = []\n",
    "testLabels = []\n",
    "for img in tqdm.tqdm(os.listdir(testDir)):\n",
    "  trainImagePath = os.path.join(testDir , img)\n",
    "  image = cv2.imread(trainImagePath)\n",
    "  image = cv2.cvtColor(image , cv2.COLOR_BGR2GRAY)\n",
    "  image = cv2.resize(image,(60,60))\n",
    "  testImages.append(image)\n",
    "  testLabels.append(img)"
   ]
  },
  {
   "cell_type": "markdown",
   "id": "28b28eae",
   "metadata": {
    "id": "dExv6W6KBIfq",
    "papermill": {
     "duration": 0.01244,
     "end_time": "2025-05-09T21:23:11.826356",
     "exception": false,
     "start_time": "2025-05-09T21:23:11.813916",
     "status": "completed"
    },
    "tags": []
   },
   "source": [
    "# Data preprocessing"
   ]
  },
  {
   "cell_type": "markdown",
   "id": "1fe34f31",
   "metadata": {
    "id": "sBsSyM4VQXPZ",
    "papermill": {
     "duration": 0.012421,
     "end_time": "2025-05-09T21:23:11.851135",
     "exception": false,
     "start_time": "2025-05-09T21:23:11.838714",
     "status": "completed"
    },
    "tags": []
   },
   "source": [
    "## train"
   ]
  },
  {
   "cell_type": "code",
   "execution_count": null,
   "id": "80596235",
   "metadata": {
    "execution": {
     "iopub.execute_input": "2025-05-09T21:23:11.876869Z",
     "iopub.status.busy": "2025-05-09T21:23:11.876649Z",
     "iopub.status.idle": "2025-05-09T21:23:11.907764Z",
     "shell.execute_reply": "2025-05-09T21:23:11.907266Z"
    },
    "executionInfo": {
     "elapsed": 1,
     "status": "ok",
     "timestamp": 1746750908953,
     "user": {
      "displayName": "Mohamed Gaber",
      "userId": "13237345057819425353"
     },
     "user_tz": -180
    },
    "id": "L5V17Yat7kVc",
    "papermill": {
     "duration": 0.045183,
     "end_time": "2025-05-09T21:23:11.908813",
     "exception": false,
     "start_time": "2025-05-09T21:23:11.863630",
     "status": "completed"
    },
    "tags": []
   },
   "outputs": [],
   "source": [
    "# shuffles x and y to make better training\n",
    "XShuffled , yShuffled = shuffle(X,y,random_state=42)"
   ]
  },
  {
   "cell_type": "code",
   "execution_count": null,
   "id": "526dc7c2",
   "metadata": {
    "execution": {
     "iopub.execute_input": "2025-05-09T21:23:11.937118Z",
     "iopub.status.busy": "2025-05-09T21:23:11.936555Z",
     "iopub.status.idle": "2025-05-09T21:23:12.130557Z",
     "shell.execute_reply": "2025-05-09T21:23:12.129958Z"
    },
    "executionInfo": {
     "elapsed": 215,
     "status": "ok",
     "timestamp": 1746750909169,
     "user": {
      "displayName": "Mohamed Gaber",
      "userId": "13237345057819425353"
     },
     "user_tz": -180
    },
    "id": "i615RnJq9slW",
    "papermill": {
     "duration": 0.208692,
     "end_time": "2025-05-09T21:23:12.131898",
     "exception": false,
     "start_time": "2025-05-09T21:23:11.923206",
     "status": "completed"
    },
    "tags": []
   },
   "outputs": [],
   "source": [
    "# convert list to np array\n",
    "xtrain = np.array(XShuffled)\n",
    "ytrain = np.array(yShuffled)"
   ]
  },
  {
   "cell_type": "code",
   "execution_count": null,
   "id": "29b8045e",
   "metadata": {
    "execution": {
     "iopub.execute_input": "2025-05-09T21:23:12.159187Z",
     "iopub.status.busy": "2025-05-09T21:23:12.158951Z",
     "iopub.status.idle": "2025-05-09T21:23:12.163300Z",
     "shell.execute_reply": "2025-05-09T21:23:12.162736Z"
    },
    "executionInfo": {
     "elapsed": 22,
     "status": "ok",
     "timestamp": 1746750909197,
     "user": {
      "displayName": "Mohamed Gaber",
      "userId": "13237345057819425353"
     },
     "user_tz": -180
    },
    "id": "eFIeP5AOBoV-",
    "outputId": "b2e12449-28ad-4cd3-eecd-63088b26f107",
    "papermill": {
     "duration": 0.018917,
     "end_time": "2025-05-09T21:23:12.164373",
     "exception": false,
     "start_time": "2025-05-09T21:23:12.145456",
     "status": "completed"
    },
    "tags": []
   },
   "outputs": [
    {
     "data": {
      "text/plain": [
       "(87000, 60, 60)"
      ]
     },
     "execution_count": 10,
     "metadata": {},
     "output_type": "execute_result"
    }
   ],
   "source": [
    "# shape of xtrain\n",
    "xtrain.shape"
   ]
  },
  {
   "cell_type": "code",
   "execution_count": null,
   "id": "1bac3db8",
   "metadata": {
    "execution": {
     "iopub.execute_input": "2025-05-09T21:23:12.190866Z",
     "iopub.status.busy": "2025-05-09T21:23:12.190638Z",
     "iopub.status.idle": "2025-05-09T21:23:12.804853Z",
     "shell.execute_reply": "2025-05-09T21:23:12.804294Z"
    },
    "executionInfo": {
     "elapsed": 3083,
     "status": "ok",
     "timestamp": 1746750912280,
     "user": {
      "displayName": "Mohamed Gaber",
      "userId": "13237345057819425353"
     },
     "user_tz": -180
    },
    "id": "-wT8_KGj_OuI",
    "papermill": {
     "duration": 0.628757,
     "end_time": "2025-05-09T21:23:12.806083",
     "exception": false,
     "start_time": "2025-05-09T21:23:12.177326",
     "status": "completed"
    },
    "tags": []
   },
   "outputs": [],
   "source": [
    "# Scale the train data\n",
    "xtrain = xtrain.astype('float32') / 255.0"
   ]
  },
  {
   "cell_type": "code",
   "execution_count": null,
   "id": "ad8a9dd0",
   "metadata": {
    "execution": {
     "iopub.execute_input": "2025-05-09T21:23:12.833272Z",
     "iopub.status.busy": "2025-05-09T21:23:12.833023Z",
     "iopub.status.idle": "2025-05-09T21:23:12.836154Z",
     "shell.execute_reply": "2025-05-09T21:23:12.835650Z"
    },
    "executionInfo": {
     "elapsed": 4,
     "status": "ok",
     "timestamp": 1746750912287,
     "user": {
      "displayName": "Mohamed Gaber",
      "userId": "13237345057819425353"
     },
     "user_tz": -180
    },
    "id": "7Sr70eKXFaun",
    "papermill": {
     "duration": 0.017539,
     "end_time": "2025-05-09T21:23:12.837168",
     "exception": false,
     "start_time": "2025-05-09T21:23:12.819629",
     "status": "completed"
    },
    "tags": []
   },
   "outputs": [],
   "source": [
    "# Reshape xtrain to fit conv network\n",
    "xtrainReshaped = xtrain.reshape( (87000, 60, 60 , 1) )"
   ]
  },
  {
   "cell_type": "code",
   "execution_count": null,
   "id": "885093a6",
   "metadata": {
    "execution": {
     "iopub.execute_input": "2025-05-09T21:23:12.863724Z",
     "iopub.status.busy": "2025-05-09T21:23:12.863505Z",
     "iopub.status.idle": "2025-05-09T21:23:12.867751Z",
     "shell.execute_reply": "2025-05-09T21:23:12.867084Z"
    },
    "executionInfo": {
     "elapsed": 13,
     "status": "ok",
     "timestamp": 1746750912301,
     "user": {
      "displayName": "Mohamed Gaber",
      "userId": "13237345057819425353"
     },
     "user_tz": -180
    },
    "id": "jCEkjwhJF52W",
    "outputId": "ad8aef7c-3f03-483d-c47c-cca06c80cecf",
    "papermill": {
     "duration": 0.018661,
     "end_time": "2025-05-09T21:23:12.868826",
     "exception": false,
     "start_time": "2025-05-09T21:23:12.850165",
     "status": "completed"
    },
    "tags": []
   },
   "outputs": [
    {
     "data": {
      "text/plain": [
       "(87000, 60, 60, 1)"
      ]
     },
     "execution_count": 13,
     "metadata": {},
     "output_type": "execute_result"
    }
   ],
   "source": [
    "xtrainReshaped.shape"
   ]
  },
  {
   "cell_type": "code",
   "execution_count": null,
   "id": "16ef5121",
   "metadata": {
    "execution": {
     "iopub.execute_input": "2025-05-09T21:23:12.895602Z",
     "iopub.status.busy": "2025-05-09T21:23:12.895409Z",
     "iopub.status.idle": "2025-05-09T21:23:12.899202Z",
     "shell.execute_reply": "2025-05-09T21:23:12.898751Z"
    },
    "executionInfo": {
     "elapsed": 1,
     "status": "ok",
     "timestamp": 1746750912303,
     "user": {
      "displayName": "Mohamed Gaber",
      "userId": "13237345057819425353"
     },
     "user_tz": -180
    },
    "id": "y2s_GacMGsFF",
    "papermill": {
     "duration": 0.018136,
     "end_time": "2025-05-09T21:23:12.900139",
     "exception": false,
     "start_time": "2025-05-09T21:23:12.882003",
     "status": "completed"
    },
    "tags": []
   },
   "outputs": [],
   "source": [
    "# Create list of classes and dic to convert y labels to numbers\n",
    "cats = [i for i in os.listdir(trainDir)]\n",
    "categories = {}\n",
    "for i,c in enumerate(cats) :\n",
    "  categories[c] = i"
   ]
  },
  {
   "cell_type": "code",
   "execution_count": null,
   "id": "3746acea",
   "metadata": {
    "execution": {
     "iopub.execute_input": "2025-05-09T21:23:12.927939Z",
     "iopub.status.busy": "2025-05-09T21:23:12.927745Z",
     "iopub.status.idle": "2025-05-09T21:23:12.980198Z",
     "shell.execute_reply": "2025-05-09T21:23:12.979674Z"
    },
    "executionInfo": {
     "elapsed": 54,
     "status": "ok",
     "timestamp": 1746750912358,
     "user": {
      "displayName": "Mohamed Gaber",
      "userId": "13237345057819425353"
     },
     "user_tz": -180
    },
    "id": "01c-DyzQHXlR",
    "outputId": "90c55b66-c7db-462d-fbbc-9e0407ba0fcc",
    "papermill": {
     "duration": 0.068131,
     "end_time": "2025-05-09T21:23:12.981224",
     "exception": false,
     "start_time": "2025-05-09T21:23:12.913093",
     "status": "completed"
    },
    "tags": []
   },
   "outputs": [
    {
     "data": {
      "text/plain": [
       "array(['19', '9', '11', ..., '25', '0', '5'], dtype='<U7')"
      ]
     },
     "execution_count": 15,
     "metadata": {},
     "output_type": "execute_result"
    }
   ],
   "source": [
    "# convert labels in ytrain to numbers\n",
    "for i in range (len(ytrain)) :\n",
    "  ytrain[i] = categories[ytrain[i]]\n",
    "\n",
    "ytrain"
   ]
  },
  {
   "cell_type": "code",
   "execution_count": null,
   "id": "c302fbc3",
   "metadata": {
    "execution": {
     "iopub.execute_input": "2025-05-09T21:23:13.008045Z",
     "iopub.status.busy": "2025-05-09T21:23:13.007848Z",
     "iopub.status.idle": "2025-05-09T21:23:13.049788Z",
     "shell.execute_reply": "2025-05-09T21:23:13.049289Z"
    },
    "executionInfo": {
     "elapsed": 2,
     "status": "ok",
     "timestamp": 1746750912362,
     "user": {
      "displayName": "Mohamed Gaber",
      "userId": "13237345057819425353"
     },
     "user_tz": -180
    },
    "id": "fU1SFMb-IEkF",
    "papermill": {
     "duration": 0.056597,
     "end_time": "2025-05-09T21:23:13.050830",
     "exception": false,
     "start_time": "2025-05-09T21:23:12.994233",
     "status": "completed"
    },
    "tags": []
   },
   "outputs": [],
   "source": [
    "# Convert ytrain from numpy array to categoricl formate to fit in the training\n",
    "ytrain = to_categorical(ytrain)"
   ]
  },
  {
   "cell_type": "markdown",
   "id": "fee59723",
   "metadata": {
    "id": "sW6V99CwQb1Y",
    "papermill": {
     "duration": 0.013031,
     "end_time": "2025-05-09T21:23:13.076935",
     "exception": false,
     "start_time": "2025-05-09T21:23:13.063904",
     "status": "completed"
    },
    "tags": []
   },
   "source": [
    "## test"
   ]
  },
  {
   "cell_type": "code",
   "execution_count": null,
   "id": "055e1f2c",
   "metadata": {
    "execution": {
     "iopub.execute_input": "2025-05-09T21:23:13.103822Z",
     "iopub.status.busy": "2025-05-09T21:23:13.103268Z",
     "iopub.status.idle": "2025-05-09T21:23:13.106788Z",
     "shell.execute_reply": "2025-05-09T21:23:13.106288Z"
    },
    "executionInfo": {
     "elapsed": 7,
     "status": "ok",
     "timestamp": 1746750912371,
     "user": {
      "displayName": "Mohamed Gaber",
      "userId": "13237345057819425353"
     },
     "user_tz": -180
    },
    "id": "t4zyx09wQd8a",
    "papermill": {
     "duration": 0.017979,
     "end_time": "2025-05-09T21:23:13.107772",
     "exception": false,
     "start_time": "2025-05-09T21:23:13.089793",
     "status": "completed"
    },
    "tags": []
   },
   "outputs": [],
   "source": [
    "testImages = np.array(testImages)\n",
    "testLabels = np.array(testLabels)"
   ]
  },
  {
   "cell_type": "code",
   "execution_count": null,
   "id": "2dbea1e2",
   "metadata": {
    "execution": {
     "iopub.execute_input": "2025-05-09T21:23:13.134702Z",
     "iopub.status.busy": "2025-05-09T21:23:13.134504Z",
     "iopub.status.idle": "2025-05-09T21:23:13.137903Z",
     "shell.execute_reply": "2025-05-09T21:23:13.137278Z"
    },
    "executionInfo": {
     "elapsed": 1,
     "status": "ok",
     "timestamp": 1746750912373,
     "user": {
      "displayName": "Mohamed Gaber",
      "userId": "13237345057819425353"
     },
     "user_tz": -180
    },
    "id": "XHdnRH_GQ2FT",
    "papermill": {
     "duration": 0.018079,
     "end_time": "2025-05-09T21:23:13.138911",
     "exception": false,
     "start_time": "2025-05-09T21:23:13.120832",
     "status": "completed"
    },
    "tags": []
   },
   "outputs": [],
   "source": [
    "testImages = testImages.astype('float32') / 255.0"
   ]
  },
  {
   "cell_type": "code",
   "execution_count": null,
   "id": "1f089f2f",
   "metadata": {
    "execution": {
     "iopub.execute_input": "2025-05-09T21:23:13.165653Z",
     "iopub.status.busy": "2025-05-09T21:23:13.165482Z",
     "iopub.status.idle": "2025-05-09T21:23:13.168489Z",
     "shell.execute_reply": "2025-05-09T21:23:13.168012Z"
    },
    "executionInfo": {
     "elapsed": 23,
     "status": "ok",
     "timestamp": 1746750912398,
     "user": {
      "displayName": "Mohamed Gaber",
      "userId": "13237345057819425353"
     },
     "user_tz": -180
    },
    "id": "K42y7bNkRDJj",
    "papermill": {
     "duration": 0.017715,
     "end_time": "2025-05-09T21:23:13.169505",
     "exception": false,
     "start_time": "2025-05-09T21:23:13.151790",
     "status": "completed"
    },
    "tags": []
   },
   "outputs": [],
   "source": [
    "testImages = testImages.reshape( (-1, 60, 60 , 1) )"
   ]
  },
  {
   "cell_type": "code",
   "execution_count": null,
   "id": "2cd65262",
   "metadata": {
    "execution": {
     "iopub.execute_input": "2025-05-09T21:23:13.196498Z",
     "iopub.status.busy": "2025-05-09T21:23:13.196318Z",
     "iopub.status.idle": "2025-05-09T21:23:13.200923Z",
     "shell.execute_reply": "2025-05-09T21:23:13.200258Z"
    },
    "executionInfo": {
     "elapsed": 67,
     "status": "ok",
     "timestamp": 1746750912443,
     "user": {
      "displayName": "Mohamed Gaber",
      "userId": "13237345057819425353"
     },
     "user_tz": -180
    },
    "id": "t7bKXAOURL2C",
    "outputId": "68704998-4b1d-4dc5-cb41-12411ed4676f",
    "papermill": {
     "duration": 0.019252,
     "end_time": "2025-05-09T21:23:13.201911",
     "exception": false,
     "start_time": "2025-05-09T21:23:13.182659",
     "status": "completed"
    },
    "tags": []
   },
   "outputs": [
    {
     "data": {
      "text/plain": [
       "array(['A', 'E', 'L', 'N', 'S', 'D', 'G', 'I', 'W', 'M', 'nothing', 'X',\n",
       "       'H', 'Q', 'C', 'T', 'P', 'V', 'Y', 'U', 'space', 'O', 'B', 'R',\n",
       "       'F', 'Z', 'J', 'K'], dtype='<U16')"
      ]
     },
     "execution_count": 20,
     "metadata": {},
     "output_type": "execute_result"
    }
   ],
   "source": [
    "for i in range(len(testLabels)) :\n",
    "  testLabels[i] = testLabels[i].split('_')[0]\n",
    "\n",
    "testLabels"
   ]
  },
  {
   "cell_type": "code",
   "execution_count": null,
   "id": "0692ec93",
   "metadata": {
    "execution": {
     "iopub.execute_input": "2025-05-09T21:23:13.229330Z",
     "iopub.status.busy": "2025-05-09T21:23:13.229103Z",
     "iopub.status.idle": "2025-05-09T21:23:13.231998Z",
     "shell.execute_reply": "2025-05-09T21:23:13.231537Z"
    },
    "executionInfo": {
     "elapsed": 3,
     "status": "ok",
     "timestamp": 1746750912450,
     "user": {
      "displayName": "Mohamed Gaber",
      "userId": "13237345057819425353"
     },
     "user_tz": -180
    },
    "id": "BgUz-jhrS4Zd",
    "papermill": {
     "duration": 0.017877,
     "end_time": "2025-05-09T21:23:13.233018",
     "exception": false,
     "start_time": "2025-05-09T21:23:13.215141",
     "status": "completed"
    },
    "tags": []
   },
   "outputs": [],
   "source": [
    "testDic = {}\n",
    "for i,c in enumerate(testLabels):\n",
    "  testDic[c]=i"
   ]
  },
  {
   "cell_type": "code",
   "execution_count": null,
   "id": "28c883ea",
   "metadata": {
    "execution": {
     "iopub.execute_input": "2025-05-09T21:23:13.260119Z",
     "iopub.status.busy": "2025-05-09T21:23:13.259932Z",
     "iopub.status.idle": "2025-05-09T21:23:13.262779Z",
     "shell.execute_reply": "2025-05-09T21:23:13.262300Z"
    },
    "executionInfo": {
     "elapsed": 1,
     "status": "ok",
     "timestamp": 1746750912452,
     "user": {
      "displayName": "Mohamed Gaber",
      "userId": "13237345057819425353"
     },
     "user_tz": -180
    },
    "id": "S-y3K1pDTbDL",
    "papermill": {
     "duration": 0.017289,
     "end_time": "2025-05-09T21:23:13.263707",
     "exception": false,
     "start_time": "2025-05-09T21:23:13.246418",
     "status": "completed"
    },
    "tags": []
   },
   "outputs": [],
   "source": [
    "for i in range( len(testLabels) ):\n",
    "  testLabels[i] = testDic[testLabels[i]]"
   ]
  },
  {
   "cell_type": "code",
   "execution_count": null,
   "id": "c20089f8",
   "metadata": {
    "execution": {
     "iopub.execute_input": "2025-05-09T21:23:13.290885Z",
     "iopub.status.busy": "2025-05-09T21:23:13.290495Z",
     "iopub.status.idle": "2025-05-09T21:23:13.294589Z",
     "shell.execute_reply": "2025-05-09T21:23:13.293939Z"
    },
    "executionInfo": {
     "elapsed": 17,
     "status": "ok",
     "timestamp": 1746750912470,
     "user": {
      "displayName": "Mohamed Gaber",
      "userId": "13237345057819425353"
     },
     "user_tz": -180
    },
    "id": "w7aFn7_QT6IJ",
    "outputId": "60e31393-6b37-4812-be3f-423b12ca8e72",
    "papermill": {
     "duration": 0.018725,
     "end_time": "2025-05-09T21:23:13.295655",
     "exception": false,
     "start_time": "2025-05-09T21:23:13.276930",
     "status": "completed"
    },
    "tags": []
   },
   "outputs": [
    {
     "data": {
      "text/plain": [
       "array(['0', '1', '2', '3', '4', '5', '6', '7', '8', '9', '10', '11', '12',\n",
       "       '13', '14', '15', '16', '17', '18', '19', '20', '21', '22', '23',\n",
       "       '24', '25', '26', '27'], dtype='<U16')"
      ]
     },
     "execution_count": 23,
     "metadata": {},
     "output_type": "execute_result"
    }
   ],
   "source": [
    "testLabels"
   ]
  },
  {
   "cell_type": "code",
   "execution_count": null,
   "id": "eb05e1ca",
   "metadata": {
    "execution": {
     "iopub.execute_input": "2025-05-09T21:23:13.322931Z",
     "iopub.status.busy": "2025-05-09T21:23:13.322560Z",
     "iopub.status.idle": "2025-05-09T21:23:13.325773Z",
     "shell.execute_reply": "2025-05-09T21:23:13.325281Z"
    },
    "executionInfo": {
     "elapsed": 9,
     "status": "ok",
     "timestamp": 1746750912480,
     "user": {
      "displayName": "Mohamed Gaber",
      "userId": "13237345057819425353"
     },
     "user_tz": -180
    },
    "id": "1zC6IonqXa9o",
    "outputId": "f06a8fbd-9a4a-4e9c-9627-99224a2507d2",
    "papermill": {
     "duration": 0.017879,
     "end_time": "2025-05-09T21:23:13.326770",
     "exception": false,
     "start_time": "2025-05-09T21:23:13.308891",
     "status": "completed"
    },
    "tags": []
   },
   "outputs": [],
   "source": [
    "testLabels = to_categorical(testLabels , num_classes=29)"
   ]
  },
  {
   "cell_type": "code",
   "execution_count": null,
   "id": "5ec12e7d",
   "metadata": {
    "execution": {
     "iopub.execute_input": "2025-05-09T21:23:13.353843Z",
     "iopub.status.busy": "2025-05-09T21:23:13.353650Z",
     "iopub.status.idle": "2025-05-09T21:23:13.356942Z",
     "shell.execute_reply": "2025-05-09T21:23:13.356450Z"
    },
    "executionInfo": {
     "elapsed": 1,
     "status": "ok",
     "timestamp": 1746750912482,
     "user": {
      "displayName": "Mohamed Gaber",
      "userId": "13237345057819425353"
     },
     "user_tz": -180
    },
    "id": "NfGhzmJdZvki",
    "papermill": {
     "duration": 0.017975,
     "end_time": "2025-05-09T21:23:13.357906",
     "exception": false,
     "start_time": "2025-05-09T21:23:13.339931",
     "status": "completed"
    },
    "tags": []
   },
   "outputs": [],
   "source": [
    "testImages = np.array(testImages, dtype=np.float32)\n",
    "testLabels = np.array(testLabels, dtype=np.int32)"
   ]
  },
  {
   "cell_type": "markdown",
   "id": "ed84a7c6",
   "metadata": {
    "id": "k7jzfTWxGG5z",
    "papermill": {
     "duration": 0.013215,
     "end_time": "2025-05-09T21:23:13.385100",
     "exception": false,
     "start_time": "2025-05-09T21:23:13.371885",
     "status": "completed"
    },
    "tags": []
   },
   "source": [
    "# Data Modeling"
   ]
  },
  {
   "cell_type": "code",
   "execution_count": null,
   "id": "9a828303",
   "metadata": {
    "execution": {
     "iopub.execute_input": "2025-05-09T21:23:13.412302Z",
     "iopub.status.busy": "2025-05-09T21:23:13.412097Z",
     "iopub.status.idle": "2025-05-09T21:23:16.726740Z",
     "shell.execute_reply": "2025-05-09T21:23:16.726162Z"
    },
    "executionInfo": {
     "elapsed": 22,
     "status": "ok",
     "timestamp": 1746750912505,
     "user": {
      "displayName": "Mohamed Gaber",
      "userId": "13237345057819425353"
     },
     "user_tz": -180
    },
    "id": "V1bhgEh5GIa6",
    "papermill": {
     "duration": 3.329695,
     "end_time": "2025-05-09T21:23:16.728027",
     "exception": false,
     "start_time": "2025-05-09T21:23:13.398332",
     "status": "completed"
    },
    "tags": []
   },
   "outputs": [
    {
     "name": "stderr",
     "output_type": "stream",
     "text": [
      "/usr/local/lib/python3.11/dist-packages/keras/src/layers/convolutional/base_conv.py:107: UserWarning: Do not pass an `input_shape`/`input_dim` argument to a layer. When using Sequential models, prefer using an `Input(shape)` object as the first layer in the model instead.\n",
      "  super().__init__(activity_regularizer=activity_regularizer, **kwargs)\n",
      "I0000 00:00:1746825795.176039      19 gpu_device.cc:2022] Created device /job:localhost/replica:0/task:0/device:GPU:0 with 13942 MB memory:  -> device: 0, name: Tesla T4, pci bus id: 0000:00:04.0, compute capability: 7.5\n",
      "I0000 00:00:1746825795.176727      19 gpu_device.cc:2022] Created device /job:localhost/replica:0/task:0/device:GPU:1 with 13942 MB memory:  -> device: 1, name: Tesla T4, pci bus id: 0000:00:05.0, compute capability: 7.5\n"
     ]
    }
   ],
   "source": [
    "Model = Sequential ([\n",
    "    Conv2D(128 , (3,3) , activation='relu' , input_shape =(60,60,1)),\n",
    "    MaxPooling2D((2,2)),\n",
    "    Conv2D(64 , (3,3) , activation='relu' ),\n",
    "    MaxPooling2D((2,2)),\n",
    "    Conv2D(32 , (3,3) , activation='relu' ),\n",
    "    MaxPooling2D((2,2)),\n",
    "    Flatten(),\n",
    "    Dense(256 , activation='relu'),\n",
    "    Dropout(0.2),\n",
    "    Dense(128 , activation='relu'),\n",
    "    Dropout(0.15),\n",
    "    Dense(64 , activation='relu'),\n",
    "    Dense(len(cats) , activation='softmax'),\n",
    "])"
   ]
  },
  {
   "cell_type": "code",
   "execution_count": null,
   "id": "fe0df899",
   "metadata": {
    "execution": {
     "iopub.execute_input": "2025-05-09T21:23:16.757811Z",
     "iopub.status.busy": "2025-05-09T21:23:16.757611Z",
     "iopub.status.idle": "2025-05-09T21:23:16.768043Z",
     "shell.execute_reply": "2025-05-09T21:23:16.767563Z"
    },
    "executionInfo": {
     "elapsed": 44,
     "status": "ok",
     "timestamp": 1746750912551,
     "user": {
      "displayName": "Mohamed Gaber",
      "userId": "13237345057819425353"
     },
     "user_tz": -180
    },
    "id": "1vMlvwVSJXWm",
    "papermill": {
     "duration": 0.026083,
     "end_time": "2025-05-09T21:23:16.769106",
     "exception": false,
     "start_time": "2025-05-09T21:23:16.743023",
     "status": "completed"
    },
    "tags": []
   },
   "outputs": [],
   "source": [
    "Model.compile(optimizer='adam' , loss = 'categorical_crossentropy' , metrics=['accuracy'])"
   ]
  },
  {
   "cell_type": "code",
   "execution_count": null,
   "id": "4b628d22",
   "metadata": {
    "execution": {
     "iopub.execute_input": "2025-05-09T21:23:16.797181Z",
     "iopub.status.busy": "2025-05-09T21:23:16.797006Z",
     "iopub.status.idle": "2025-05-09T21:26:29.463129Z",
     "shell.execute_reply": "2025-05-09T21:26:29.462275Z"
    },
    "executionInfo": {
     "elapsed": 311624,
     "status": "ok",
     "timestamp": 1746751224174,
     "user": {
      "displayName": "Mohamed Gaber",
      "userId": "13237345057819425353"
     },
     "user_tz": -180
    },
    "id": "Sp98ujSBKMiu",
    "outputId": "8d8f5917-dc25-4c48-f630-583df99b3bd8",
    "papermill": {
     "duration": 192.682222,
     "end_time": "2025-05-09T21:26:29.464881",
     "exception": false,
     "start_time": "2025-05-09T21:23:16.782659",
     "status": "completed"
    },
    "tags": []
   },
   "outputs": [
    {
     "name": "stdout",
     "output_type": "stream",
     "text": [
      "Epoch 1/10\n"
     ]
    },
    {
     "name": "stderr",
     "output_type": "stream",
     "text": [
      "WARNING: All log messages before absl::InitializeLog() is called are written to STDERR\n",
      "I0000 00:00:1746825802.410203      64 service.cc:148] XLA service 0x7bfba00026d0 initialized for platform CUDA (this does not guarantee that XLA will be used). Devices:\n",
      "I0000 00:00:1746825802.411086      64 service.cc:156]   StreamExecutor device (0): Tesla T4, Compute Capability 7.5\n",
      "I0000 00:00:1746825802.411104      64 service.cc:156]   StreamExecutor device (1): Tesla T4, Compute Capability 7.5\n",
      "I0000 00:00:1746825802.796188      64 cuda_dnn.cc:529] Loaded cuDNN version 90300\n"
     ]
    },
    {
     "name": "stdout",
     "output_type": "stream",
     "text": [
      "\u001b[1m  21/2175\u001b[0m \u001b[37m━━━━━━━━━━━━━━━━━━━━\u001b[0m \u001b[1m17s\u001b[0m 8ms/step - accuracy: 0.0294 - loss: 3.3728"
     ]
    },
    {
     "name": "stderr",
     "output_type": "stream",
     "text": [
      "I0000 00:00:1746825806.635598      64 device_compiler.h:188] Compiled cluster using XLA!  This line is logged at most once for the lifetime of the process.\n"
     ]
    },
    {
     "name": "stdout",
     "output_type": "stream",
     "text": [
      "\u001b[1m2175/2175\u001b[0m \u001b[32m━━━━━━━━━━━━━━━━━━━━\u001b[0m\u001b[37m\u001b[0m \u001b[1m27s\u001b[0m 9ms/step - accuracy: 0.2878 - loss: 2.3850 - val_accuracy: 0.8520 - val_loss: 0.4353\n",
      "Epoch 2/10\n",
      "\u001b[1m2175/2175\u001b[0m \u001b[32m━━━━━━━━━━━━━━━━━━━━\u001b[0m\u001b[37m\u001b[0m \u001b[1m18s\u001b[0m 8ms/step - accuracy: 0.8204 - loss: 0.5157 - val_accuracy: 0.9334 - val_loss: 0.1982\n",
      "Epoch 3/10\n",
      "\u001b[1m2175/2175\u001b[0m \u001b[32m━━━━━━━━━━━━━━━━━━━━\u001b[0m\u001b[37m\u001b[0m \u001b[1m18s\u001b[0m 8ms/step - accuracy: 0.9013 - loss: 0.2886 - val_accuracy: 0.9690 - val_loss: 0.0956\n",
      "Epoch 4/10\n",
      "\u001b[1m2175/2175\u001b[0m \u001b[32m━━━━━━━━━━━━━━━━━━━━\u001b[0m\u001b[37m\u001b[0m \u001b[1m18s\u001b[0m 8ms/step - accuracy: 0.9267 - loss: 0.2148 - val_accuracy: 0.9801 - val_loss: 0.0648\n",
      "Epoch 5/10\n",
      "\u001b[1m2175/2175\u001b[0m \u001b[32m━━━━━━━━━━━━━━━━━━━━\u001b[0m\u001b[37m\u001b[0m \u001b[1m18s\u001b[0m 8ms/step - accuracy: 0.9435 - loss: 0.1689 - val_accuracy: 0.9806 - val_loss: 0.0592\n",
      "Epoch 6/10\n",
      "\u001b[1m2175/2175\u001b[0m \u001b[32m━━━━━━━━━━━━━━━━━━━━\u001b[0m\u001b[37m\u001b[0m \u001b[1m18s\u001b[0m 8ms/step - accuracy: 0.9544 - loss: 0.1385 - val_accuracy: 0.9731 - val_loss: 0.0799\n",
      "Epoch 7/10\n",
      "\u001b[1m2175/2175\u001b[0m \u001b[32m━━━━━━━━━━━━━━━━━━━━\u001b[0m\u001b[37m\u001b[0m \u001b[1m18s\u001b[0m 8ms/step - accuracy: 0.9609 - loss: 0.1243 - val_accuracy: 0.9749 - val_loss: 0.0754\n",
      "Epoch 8/10\n",
      "\u001b[1m2175/2175\u001b[0m \u001b[32m━━━━━━━━━━━━━━━━━━━━\u001b[0m\u001b[37m\u001b[0m \u001b[1m18s\u001b[0m 8ms/step - accuracy: 0.9674 - loss: 0.0995 - val_accuracy: 0.9822 - val_loss: 0.0536\n",
      "Epoch 9/10\n",
      "\u001b[1m2175/2175\u001b[0m \u001b[32m━━━━━━━━━━━━━━━━━━━━\u001b[0m\u001b[37m\u001b[0m \u001b[1m18s\u001b[0m 8ms/step - accuracy: 0.9701 - loss: 0.0912 - val_accuracy: 0.9868 - val_loss: 0.0416\n",
      "Epoch 10/10\n",
      "\u001b[1m2175/2175\u001b[0m \u001b[32m━━━━━━━━━━━━━━━━━━━━\u001b[0m\u001b[37m\u001b[0m \u001b[1m18s\u001b[0m 8ms/step - accuracy: 0.9728 - loss: 0.0872 - val_accuracy: 0.9938 - val_loss: 0.0230\n"
     ]
    },
    {
     "data": {
      "text/plain": [
       "<keras.src.callbacks.history.History at 0x7bfcc135f910>"
      ]
     },
     "execution_count": 28,
     "metadata": {},
     "output_type": "execute_result"
    }
   ],
   "source": [
    "Model.fit(xtrainReshaped , ytrain  , validation_split=0.2 , epochs = 10)"
   ]
  },
  {
   "cell_type": "code",
   "execution_count": null,
   "id": "cf8be2f3",
   "metadata": {
    "execution": {
     "iopub.execute_input": "2025-05-09T21:26:29.793917Z",
     "iopub.status.busy": "2025-05-09T21:26:29.793304Z",
     "iopub.status.idle": "2025-05-09T21:26:29.992897Z",
     "shell.execute_reply": "2025-05-09T21:26:29.991997Z"
    },
    "executionInfo": {
     "elapsed": 181,
     "status": "ok",
     "timestamp": 1746751224363,
     "user": {
      "displayName": "Mohamed Gaber",
      "userId": "13237345057819425353"
     },
     "user_tz": -180
    },
    "id": "96kIGQJLLjLY",
    "outputId": "20e9b1ba-08e0-45cc-8cba-5dec2b1eda58",
    "papermill": {
     "duration": 0.366693,
     "end_time": "2025-05-09T21:26:29.994136",
     "exception": false,
     "start_time": "2025-05-09T21:26:29.627443",
     "status": "completed"
    },
    "tags": []
   },
   "outputs": [
    {
     "data": {
      "image/png": "[encoded data removed]",
      "text/plain": [
       "<Figure size 640x480 with 1 Axes>"
      ]
     },
     "metadata": {},
     "output_type": "display_data"
    }
   ],
   "source": [
    "plt.plot(Model.history.history['accuracy'], label='Train Accuracy')\n",
    "plt.plot(Model.history.history['val_accuracy'], label='Validation Accuracy')\n",
    "plt.title('Model Accuracy')\n",
    "plt.xlabel('Epoch')\n",
    "plt.ylabel('Accuracy')\n",
    "plt.legend()\n",
    "plt.grid(True)\n",
    "plt.show()"
   ]
  }
 ],
 "metadata": {
  "accelerator": "GPU",
  "colab": {
   "authorship_tag": "ABX9TyM+k8tcI1pCoVoOUYQwaeg+",
   "gpuType": "T4",
   "provenance": []
  },
  "kaggle": {
   "accelerator": "nvidiaTeslaT4",
   "dataSources": [
    {
     "datasetId": 23079,
     "sourceId": 29550,
     "sourceType": "datasetVersion"
    }
   ],
   "dockerImageVersionId": 31011,
   "isGpuEnabled": true,
   "isInternetEnabled": true,
   "language": "python",
   "sourceType": "notebook"
  },
  "kernelspec": {
   "display_name": "Python 3",
   "name": "python3"
  },
  "language_info": {
   "codemirror_mode": {
    "name": "ipython",
    "version": 3
   },
   "file_extension": ".py",
   "mimetype": "text/x-python",
   "name": "python",
   "nbconvert_exporter": "python",
   "pygments_lexer": "ipython3",
   "version": "3.9.13"
  },
  "papermill": {
   "default_parameters": {},
   "duration": 870.644202,
   "end_time": "2025-05-09T21:26:33.798243",
   "environment_variables": {},
   "exception": null,
   "input_path": "__notebook__.ipynb",
   "output_path": "__notebook__.ipynb",
   "parameters": {},
   "start_time": "2025-05-09T21:12:03.154041",
   "version": "2.6.0"
  }
 },
 "nbformat": 4,
 "nbformat_minor": 5
}
